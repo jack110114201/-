{
 "cells": [
  {
   "cell_type": "markdown",
   "id": "b6da0aff",
   "metadata": {},
   "source": [
    "#### 特別獎:同期統一發票收執聯8位數號碼與特別獎號碼相同者獎金1,000萬元\n",
    "#### 特獎:同期統一發票收執聯8位數號碼與特獎號碼相同者獎金200萬元\n",
    "#### 頭獎:同期統一發票收執聯8位數號碼與頭獎號碼相同者獎金20萬元\n",
    "#### 二獎:同期統一發票收執聯末7 位數號碼與頭獎中獎號碼末7 位相同者各得獎金4萬元\n",
    "#### 三獎:同期統一發票收執聯末6 位數號碼與頭獎中獎號碼末6 位相同者各得獎金1萬元\n",
    "#### 四獎:同期統一發票收執聯末5 位數號碼與頭獎中獎號碼末5 位相同者各得獎金4千元\n",
    "#### 五獎:同期統一發票收執聯末4 位數號碼與頭獎中獎號碼末4 位相同者各得獎金1千元\n",
    "#### 六獎:同期統一發票收執聯末3 位數號碼與 頭獎中獎號碼末3 位相同者各得獎金2百元:"
   ]
  },
  {
   "cell_type": "code",
   "execution_count": 5,
   "id": "a1dc7e24",
   "metadata": {},
   "outputs": [],
   "source": [
    "receipt_data = {'日期':'1090910',\n",
    "'特別獎':['59518250'],\n",
    "'特獎':['81016847'], \n",
    "'頭獎':['22884739','80660537','62637675'],\n",
    "'增開六獎':['651','341']}"
   ]
  },
  {
   "cell_type": "code",
   "execution_count": 3,
   "id": "c27e5da9",
   "metadata": {},
   "outputs": [
    {
     "name": "stdout",
     "output_type": "stream",
     "text": [
      "<class 'dict'>\n"
     ]
    }
   ],
   "source": [
    "print(type(receipt_data))"
   ]
  },
  {
   "cell_type": "code",
   "execution_count": 6,
   "id": "4bd9f504",
   "metadata": {},
   "outputs": [
    {
     "name": "stdout",
     "output_type": "stream",
     "text": [
      "1090910\n",
      "['59518250']\n",
      "['81016847']\n",
      "['22884739', '80660537', '62637675']\n",
      "['651', '341']\n"
     ]
    }
   ],
   "source": [
    "date = receipt_data['日期']\n",
    "special_prize = receipt_data['特別獎']\n",
    "special_prize_sec = receipt_data['特獎']\n",
    "head_prize = receipt_data['頭獎']\n",
    "additional_prize = receipt_data['增開六獎']\n",
    "\n",
    "print(date)\n",
    "print(special_prize)\n",
    "print(special_prize_sec)\n",
    "print(head_prize)\n",
    "print(additional_prize)"
   ]
  },
  {
   "cell_type": "markdown",
   "id": "8ff18f2a",
   "metadata": {},
   "source": [
    "### 連接資料庫要另外寫一個py檔，所以參數要多一個放dictionary格式的資料位置"
   ]
  },
  {
   "cell_type": "code",
   "execution_count": 30,
   "id": "6b963558",
   "metadata": {},
   "outputs": [],
   "source": [
    "def receipt_mechine(receipt_num_list,receipt_data):\n",
    "    if isinstance(receipt_num_list, list) == False:  #辨識 receipt_num_list 的type是否為list\n",
    "        return(\"the type of receipt_num should be a list\")\n",
    "    if all(isinstance(sub, str) for sub in receipt_num_list) == False:  #辨識在receipt_num_list中的value是否皆為str\n",
    "        return(\"each of the value in receipt_num_list should be a string\")\n",
    "    if 'error' in ['error' for i in receipt_num_list if len(i) != 8]:\n",
    "        return([(i,'the receipt numbers are not correct') for i in receipt_num_list if len(i) !=8 ])\n",
    "    else :\n",
    "        date = receipt_data['日期']\n",
    "        special_prize = receipt_data['特別獎']\n",
    "        special_prize_sec = receipt_data['特獎']\n",
    "        head_prize = receipt_data['頭獎']\n",
    "        additional_prize = receipt_data['增開六獎']\n",
    "        total = []\n",
    "        for receipt_num in receipt_num_list:\n",
    "            if receipt_num in [x for x in special_prize]:\n",
    "                c = \"特別獎\"\n",
    "                m = '獎金1,000萬元'\n",
    "                total.append((receipt_num,c,m))\n",
    "            elif receipt_num in [x for x in special_prize_sec]:\n",
    "                c = \"特獎\"\n",
    "                m = '獎金200萬元'\n",
    "                total.append((receipt_num,c,m))\n",
    "            elif receipt_num in [x for x in head_prize]:\n",
    "                c = \"頭獎\"\n",
    "                m = '獎金20萬元'\n",
    "                total.append((receipt_num,c,m))\n",
    "            elif receipt_num[1:] in [x[1:] for x in head_prize]:\n",
    "                c = \"二獎\"\n",
    "                m = '獎金4萬元'\n",
    "                total.append((receipt_num,c,m))\n",
    "            elif receipt_num[2:] in [x[2:] for x in head_prize]:\n",
    "                c = \"三獎\"\n",
    "                m = '獎金1萬元'\n",
    "                total.append((receipt_num,c,m))\n",
    "            elif receipt_num[3:] in [x[3:] for x in head_prize]:\n",
    "                c = \"四獎\"\n",
    "                m = '獎金4千元'\n",
    "                total.append((receipt_num,c,m))\n",
    "            elif receipt_num[4:] in [x[4:] for x in head_prize]:\n",
    "                c = \"五獎\"\n",
    "                m = '獎金1千元'\n",
    "                total.append((receipt_num,c,m))\n",
    "            elif receipt_num[5:] in [x[5:] for x in head_prize]:\n",
    "                c = \"六獎\"\n",
    "                m = '獎金200元'\n",
    "                total.append((receipt_num,c,m))\n",
    "            elif receipt_num[5:] in [x for x in additional_prize]:\n",
    "                c = \"增開六獎\"\n",
    "                m = '獎金200元'\n",
    "                total.append((receipt_num,c,m))\n",
    "            else :\n",
    "                c = '未中獎'\n",
    "                m = '銘謝惠顧'\n",
    "                total.append((receipt_num,c,m))\n",
    "        return total #return(發票號碼,中獎資訊,獲得獎金)\n",
    "if __name__ == '__main()__':\n",
    "    receipt_mechine(receipt_num_list,receipt_data)"
   ]
  },
  {
   "cell_type": "code",
   "execution_count": 31,
   "id": "ca94bcf1",
   "metadata": {},
   "outputs": [
    {
     "data": {
      "text/plain": [
       "[('12345678', '未中獎', '銘謝惠顧'),\n",
       " ('80653778', '未中獎', '銘謝惠顧'),\n",
       " ('80660537', '頭獎', '獎金20萬元'),\n",
       " ('80123537', '六獎', '獎金200元'),\n",
       " ('81016651', '增開六獎', '獎金200元')]"
      ]
     },
     "execution_count": 31,
     "metadata": {},
     "output_type": "execute_result"
    }
   ],
   "source": [
    "k = ['12345678','80653778','80660537','80123537','81016651']\n",
    "receipt_mechine(k,receipt_data)"
   ]
  }
 ],
 "metadata": {
  "kernelspec": {
   "display_name": "Python 3",
   "language": "python",
   "name": "python3"
  },
  "language_info": {
   "codemirror_mode": {
    "name": "ipython",
    "version": 3
   },
   "file_extension": ".py",
   "mimetype": "text/x-python",
   "name": "python",
   "nbconvert_exporter": "python",
   "pygments_lexer": "ipython3",
   "version": "3.9.4"
  }
 },
 "nbformat": 4,
 "nbformat_minor": 5
}
